{
 "cells": [
  {
   "cell_type": "code",
   "execution_count": 4,
   "metadata": {},
   "outputs": [],
   "source": [
    "# Important note: you do not have to modify this file for your homework.\n",
    "%timeit\n",
    "from IPython.display import display\n",
    "import ipyparallel as ipp\n",
    "from ipyparallel.error import TimeoutError\n",
    "import util\n",
    "import numpy as np\n",
    "import matplotlib.pyplot as plt\n",
    "%matplotlib inline"
   ]
  },
  {
   "cell_type": "code",
   "execution_count": 2,
   "metadata": {},
   "outputs": [],
   "source": [
    "def calc_grad(X, Y, theta):\n",
    "    \"\"\"Compute the gradient of the loss with respect to theta.\"\"\"\n",
    "    m, n = X.shape\n",
    "\n",
    "    margins = Y * X.dot(theta)\n",
    "    probs = 1. / (1 + np.exp(margins))\n",
    "    grad = -(1./m) * (X.T.dot(probs * Y))\n",
    "\n",
    "    return grad"
   ]
  },
  {
   "cell_type": "code",
   "execution_count": 15,
   "metadata": {},
   "outputs": [],
   "source": [
    "def logistic_regression(X, Y):\n",
    "    \"\"\"Train a logistic regression model.\"\"\"\n",
    "    m, n = X.shape\n",
    "    theta = np.zeros(n)\n",
    "    learning_rate = 0.01\n",
    "    print(learning_rate)\n",
    "    i = 0\n",
    "    while True:\n",
    "        i += 1\n",
    "        \n",
    "        learning_rate = 1/(i*i)\n",
    "        \n",
    "        prev_theta = theta\n",
    "        grad = calc_grad(X, Y, theta)\n",
    "        theta = theta - learning_rate * grad\n",
    "        if i % 1000000 == 0:\n",
    "#             print(\"Learn.. Rate: \", learning_rate)\n",
    "            print('Finished %d iterations' % i)\n",
    "        if np.linalg.norm(prev_theta - theta) < 1e-15:\n",
    "            print('Converged in %d iterations' % i)\n",
    "            break\n",
    "    return theta"
   ]
  },
  {
   "cell_type": "code",
   "execution_count": 5,
   "metadata": {
    "scrolled": true
   },
   "outputs": [
    {
     "name": "stdout",
     "output_type": "stream",
     "text": [
      "Profile: default\n",
      "Engines: 4\n"
     ]
    }
   ],
   "source": [
    "cluster = ipp.Client()\n",
    "lb_view = cluster.load_balanced_view()\n",
    "\n",
    "print( \"Profile: %s\" % cluster.profile)\n",
    "print (\"Engines: %s\" % len(lb_view))"
   ]
  },
  {
   "cell_type": "code",
   "execution_count": 16,
   "metadata": {
    "scrolled": true
   },
   "outputs": [
    {
     "name": "stdout",
     "output_type": "stream",
     "text": [
      "\n",
      "==== Training model on data set B ====\n",
      "0.01\n",
      "Finished 1000000 iterations\n",
      "Finished 2000000 iterations\n",
      "Finished 3000000 iterations\n",
      "Finished 4000000 iterations\n",
      "Finished 5000000 iterations\n",
      "Finished 6000000 iterations\n",
      "Finished 7000000 iterations\n",
      "Finished 8000000 iterations\n",
      "Finished 9000000 iterations\n",
      "Finished 10000000 iterations\n",
      "Converged in 10734421 iterations\n"
     ]
    }
   ],
   "source": [
    "%timeit\n",
    "print('\\n==== Training model on data set B ====')\n",
    "Xb, Yb = util.load_csv('../data/ds1_b.csv', add_intercept=True)\n",
    "# lb_view.map(logistic_regression, Xb, Yb, block=True)\n",
    "# lb_view(logistic_regression(Xb, Yb), block=True)\n",
    "theta=logistic_regression(Xb, Yb)"
   ]
  },
  {
   "cell_type": "code",
   "execution_count": 17,
   "metadata": {},
   "outputs": [
    {
     "name": "stdout",
     "output_type": "stream",
     "text": [
      "[0.05174125 0.18612784 0.15255038]\n"
     ]
    }
   ],
   "source": [
    "print(theta)"
   ]
  },
  {
   "cell_type": "code",
   "execution_count": 20,
   "metadata": {},
   "outputs": [
    {
     "data": {
      "image/png": "[encoded data removed]",
      "text/plain": [
       "<Figure size 432x288 with 1 Axes>"
      ]
     },
     "metadata": {
      "needs_background": "light"
     },
     "output_type": "display_data"
    }
   ],
   "source": [
    "util.plot(Xb, Yb, theta, \"P01.jpg\")"
   ]
  },
  {
   "cell_type": "code",
   "execution_count": 21,
   "metadata": {},
   "outputs": [
    {
     "name": "stdout",
     "output_type": "stream",
     "text": [
      "[-1. -1. -1. -1. -1. -1. -1. -1. -1. -1. -1. -1. -1. -1. -1. -1. -1. -1.\n",
      " -1. -1. -1. -1. -1. -1. -1. -1. -1. -1. -1. -1. -1. -1. -1. -1. -1. -1.\n",
      " -1. -1. -1. -1. -1. -1. -1. -1. -1.]\n"
     ]
    }
   ],
   "source": [
    "print(Yb[Yb==-1])"
   ]
  }
 ],
 "metadata": {
  "kernelspec": {
   "display_name": "Python 3",
   "language": "python",
   "name": "python3"
  },
  "language_info": {
   "codemirror_mode": {
    "name": "ipython",
    "version": 3
   },
   "file_extension": ".py",
   "mimetype": "text/x-python",
   "name": "python",
   "nbconvert_exporter": "python",
   "pygments_lexer": "ipython3",
   "version": "3.6.10"
  }
 },
 "nbformat": 4,
 "nbformat_minor": 4
}
