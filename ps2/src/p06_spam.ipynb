{
 "cells": [
  {
   "cell_type": "code",
   "execution_count": 1,
   "metadata": {},
   "outputs": [],
   "source": [
    "import collections\n",
    "\n",
    "import numpy as np\n",
    "import time\n",
    "import datetime\n",
    "\n",
    "import util\n",
    "import svm"
   ]
  },
  {
   "cell_type": "code",
   "execution_count": 2,
   "metadata": {},
   "outputs": [],
   "source": [
    "def get_words(message):\n",
    "    \"\"\"Get the normalized list of words from a message string.\n",
    "\n",
    "    This function should split a message into words, normalize them, and return\n",
    "    the resulting list. For splitting, you should split on spaces. For normalization,\n",
    "    you should convert everything to lowercase.\n",
    "\n",
    "    Args:\n",
    "        message: A string containing an SMS message\n",
    "\n",
    "    Returns:\n",
    "       The list of normalized words from the message.\n",
    "    \"\"\"\n",
    "\n",
    "    # *** START CODE HERE ***\n",
    "    w_list = list(map(str, message.split(' ')))\n",
    "    word_list = []\n",
    "    word_dic = {}\n",
    "    for c in w_list:\n",
    "        c = c.lower()\n",
    "        if word_dic.get(c) is None:\n",
    "            word_list.append(c)\n",
    "            word_dic[c] = 1\n",
    "    return word_list\n",
    "    # *** END CODE HERE ***"
   ]
  },
  {
   "cell_type": "code",
   "execution_count": 3,
   "metadata": {},
   "outputs": [],
   "source": [
    "def create_dictionary(messages):\n",
    "    \"\"\"Create a dictionary mapping words to integer indices.\n",
    "\n",
    "    This function should create a dictionary of word to indices using the provided\n",
    "    training messages. Use get_words to process each message. \n",
    "\n",
    "    Rare words are often not useful for modeling. Please only add words to the dictionary\n",
    "    if they occur in at least five messages.\n",
    "\n",
    "    Args:\n",
    "        messages: A list of strings containing SMS messages\n",
    "\n",
    "    Returns:\n",
    "        A python dict mapping words to integers.\n",
    "    \"\"\"\n",
    "\n",
    "    # *** START CODE HERE ***\n",
    "    dic_word = {}\n",
    "    for sms in messages:\n",
    "        word_list = get_words(sms)\n",
    "        for word in word_list:\n",
    "            if dic_word.get(word) is None:\n",
    "                dic_word[word] = 1\n",
    "            else:\n",
    "                dic_word[word] = dic_word[word]+1\n",
    "\n",
    "    i = 0\n",
    "    dic = {}\n",
    "    for key in dic_word:\n",
    "        if dic_word.get(key) >= 5:\n",
    "            dic[key] = i\n",
    "            i += 1\n",
    "    return dic\n",
    "    # *** END CODE HERE ***"
   ]
  },
  {
   "cell_type": "code",
   "execution_count": 4,
   "metadata": {},
   "outputs": [],
   "source": [
    "def get_words1(message):\n",
    "    \"\"\"Get the normalized list of words from a message string.\n",
    "\n",
    "    This function should split a message into words, normalize them, and return\n",
    "    the resulting list. For splitting, you should split on spaces. For normalization,\n",
    "    you should convert everything to lowercase.\n",
    "\n",
    "    Args:\n",
    "        message: A string containing an SMS message\n",
    "\n",
    "    Returns:\n",
    "       The list of normalized words from the message.\n",
    "    \"\"\"\n",
    "\n",
    "    # *** START CODE HERE ***\n",
    "    w_list = list(map(str, message.split(' ')))\n",
    "    word_list = []\n",
    "    for c in w_list:\n",
    "        c = c.lower()\n",
    "        word_list.append(c)\n",
    "    return word_list\n",
    "    # *** END CODE HERE ***"
   ]
  },
  {
   "cell_type": "code",
   "execution_count": 5,
   "metadata": {},
   "outputs": [],
   "source": [
    "def transform_text(messages, word_dictionary):\n",
    "    \"\"\"Transform a list of text messages into a numpy array for further processing.\n",
    "\n",
    "    This function should create a numpy array that contains the number of times each word\n",
    "    appears in each message. Each row in the resulting array should correspond to each \n",
    "    message and each column should correspond to a word.\n",
    "\n",
    "    Use the provided word dictionary to map words to column indices. Ignore words that \n",
    "    are not present in the dictionary. Use get_words to get the words for a message.\n",
    "\n",
    "    Args:\n",
    "        messages: A list of strings where each string is an SMS message.\n",
    "        word_dictionary: A python dict mapping words to integers.\n",
    "\n",
    "    Returns:\n",
    "        A numpy array marking the words present in each message.\n",
    "    \"\"\"\n",
    "    # *** START CODE HERE ***\n",
    "    col = len(word_dictionary)\n",
    "    row = len(messages)\n",
    "    matrix = np.zeros((row, col), dtype=int)\n",
    "    for i, sms in enumerate(messages):\n",
    "        words = get_words1(sms)\n",
    "        for word in words:\n",
    "            # print(word)\n",
    "            # print(type(word))\n",
    "            pos = word_dictionary.get(word)\n",
    "            matrix[i, pos] += 1\n",
    "    # print(matrix.shape)\n",
    "    return matrix\n",
    "    # *** END CODE HERE ***"
   ]
  },
  {
   "cell_type": "code",
   "execution_count": 6,
   "metadata": {},
   "outputs": [],
   "source": [
    "def fit_naive_bayes_model(matrix, labels):\n",
    "    \"\"\"Fit a naive bayes model.\n",
    "\n",
    "    This function should fit a Naive Bayes model given a training matrix and labels.\n",
    "\n",
    "    The function should return the state of that model.\n",
    "\n",
    "    Feel free to use whatever datatype you wish for the state of the model.\n",
    "\n",
    "    Args:\n",
    "        matrix: A numpy array containing word counts for the training data\n",
    "        labels: The binary (0 or 1) labels for that training data\n",
    "\n",
    "    Returns: The trained model\n",
    "    \"\"\"\n",
    "\n",
    "    # *** START CODE HERE ***\n",
    "    # print(\"----fit_naive_bayes_model---\")\n",
    "    # row, col = matrix.shape\n",
    "    # y_i1 = labels[labels == 1].sum()\n",
    "    # phi_y = y_i1/row\n",
    "    # spam_matrix = matrix[labels==1]\n",
    "\n",
    "    # t_list = []\n",
    "    # for i in range(col):\n",
    "    #     t_matrix = spam_matrix[:, i]\n",
    "    #     diff = len(t_matrix)-len(t_matrix[t_matrix==0])\n",
    "    #     # print(diff)\n",
    "    #     t_list.append(diff)\n",
    "    # spam_matrix = np.array(t_list)\n",
    "    # phi_j_y1 = spam_matrix/y_i1\n",
    "\n",
    "    # non_spam_matrix = matrix[labels==0]\n",
    "    # t_list = []\n",
    "    # for i in range(col):\n",
    "    #     t_matrix = non_spam_matrix[:, i]\n",
    "    #     diff = len(t_matrix)-len(t_matrix[t_matrix==0])\n",
    "    #     t_list.append(diff)\n",
    "    # non_spam_matrix = np.array(t_list)\n",
    "    # phi_j_y0 = non_spam_matrix/(row-y_i1)\n",
    "    row, col = matrix.shape\n",
    "    # print(row, col)\n",
    "\n",
    "    y_i1 = labels[labels == 1].sum()\n",
    "    # print(y_i1)\n",
    "\n",
    "    phi_y = (y_i1+ row)/(3*row)\n",
    "    # print(phi_y)\n",
    "    \n",
    "    spam_matrix = matrix[labels==1]\n",
    "#     print(spam_matrix.shape)\n",
    "    new_spam_matrix = spam_matrix.sum(axis=1).sum()\n",
    "#     print(new_spam_matrix)\n",
    "    phi_j_y1 = (spam_matrix.sum(axis=0)+1)/(new_spam_matrix+col)\n",
    "#     print(phi_j_y1)\n",
    "\n",
    "    non_spam_matrix = matrix[labels==0]\n",
    "#     print(spam_matrix.shape)\n",
    "    new_spam_matrix = non_spam_matrix.sum(axis=1).sum()\n",
    "#     print(new_spam_matrix)\n",
    "    phi_j_y0 = (non_spam_matrix.sum(axis=0)+1)/(new_spam_matrix+col)\n",
    "#     print(phi_j_y0)\n",
    "\n",
    "#     spam_matrix = matrix[labels==1]\n",
    "#     # print(spam_matrix.shape)\n",
    "\n",
    "#     t_list = []\n",
    "#     for i in range(col):\n",
    "#         t_matrix = spam_matrix[:, i]\n",
    "#         # diff = len(t_matrix)-len(t_matrix[t_matrix==0])\n",
    "#         diff = t_matrix.sum()\n",
    "#     #     print(diff)\n",
    "#         t_list.append(diff)\n",
    "#     spam_matrix = np.array(t_list)\n",
    "#     phi_j_y1 = (spam_matrix+row)/(y_i1 + 2*row)\n",
    "#     # print(phi_j_y1)\n",
    "\n",
    "#     non_spam_matrix = matrix[labels==0]\n",
    "#     t_list = []\n",
    "#     for i in range(col):\n",
    "#         t_matrix = non_spam_matrix[:, i]\n",
    "#         # diff = len(t_matrix)-len(t_matrix[t_matrix==0])\n",
    "#         diff = t_matrix.sum()\n",
    "#         t_list.append(diff)\n",
    "#     non_spam_matrix = np.array(t_list)\n",
    "#     phi_j_y0 = (non_spam_matrix+row)/(row-y_i1 + 2*row)\n",
    "    # print(phi_j_y0)\n",
    "\n",
    "    # print(spam_matrix[spam_matrix!=0].sum(axis=0).shape)\n",
    "    # print(count_spam_matrix.shape)\n",
    "    return phi_y, phi_j_y0, phi_j_y1\n",
    "    # *** END CODE HERE ***"
   ]
  },
  {
   "cell_type": "code",
   "execution_count": 7,
   "metadata": {},
   "outputs": [],
   "source": [
    "def predict_from_naive_bayes_model1(model, matrix):\n",
    "    \"\"\"Use a Naive Bayes model to compute predictions for a target matrix.\n",
    "\n",
    "    This function should be able to predict on the models that fit_naive_bayes_model\n",
    "    outputs.\n",
    "\n",
    "    Args:\n",
    "        model: A trained model from fit_naive_bayes_model\n",
    "        matrix: A numpy array containing word counts\n",
    "\n",
    "    Returns: A numpy array containg the predictions from the model\n",
    "    \"\"\"\n",
    "    # *** START CODE HERE ***\n",
    "    phi_y, phi_j_y0, phi_j_y1 = model\n",
    "    ans = []\n",
    "    for c in matrix:\n",
    "        phi_j_y11 = phi_j_y1.copy()\n",
    "        phi_j_y11[c==0] = 1\n",
    "        phi_j_y11[phi_j_y11==0] = 1\n",
    "\n",
    "        a = np.log(phi_j_y11).sum() + np.log(phi_y)\n",
    "        ans.append(a)\n",
    "    p11 = np.array(ans)\n",
    "    ans = []\n",
    "    for c in matrix:\n",
    "        phi_j_y11 = phi_j_y0.copy()\n",
    "        phi_j_y11[c==0] = 1\n",
    "        phi_j_y11[phi_j_y11==0] = 1\n",
    "        a = np.log(phi_j_y11).sum() + np.log(1-phi_y)\n",
    "        ans.append(a)\n",
    "    p12 = np.array(ans)\n",
    "    # print(p11)\n",
    "    ans = []\n",
    "    for c in matrix:\n",
    "        phi_j_y11 = phi_j_y1.copy()\n",
    "        phi_j_y11[c==0] = 1\n",
    "        a = np.prod(phi_j_y11)\n",
    "        ans.append(a)\n",
    "    p1 = np.array(ans)\n",
    "    p1 = p1*phi_y\n",
    "    ans = []\n",
    "    for c in matrix:\n",
    "        phi_j_y11 = phi_j_y0.copy()\n",
    "        phi_j_y11[c==0] = 1\n",
    "        a = np.prod(phi_j_y11)\n",
    "        ans.append(a)\n",
    "    p2 = np.array(ans)\n",
    "    p2 = p2*(1-phi_y)\n",
    "\n",
    "    print(p11)\n",
    "    print()\n",
    "    # pred = np.exp(p11-(np.log(p1+p2)))\n",
    "    pred = np.exp(p11)/(np.exp(p11) + np.exp(p12))\n",
    "    print(pred)\n",
    "    pred[pred>=0.5] = 1\n",
    "    pred[pred<0.5] = 0\n",
    "    # pred.astype(int)\n",
    "    # print(pred.shape)\n",
    "    print(pred[pred==1])\n",
    "    return pred\n",
    "    # print(matrix.dot(phi_j_y0))\n",
    "    # *** END CODE HERE ***"
   ]
  },
  {
   "cell_type": "code",
   "execution_count": 8,
   "metadata": {},
   "outputs": [],
   "source": [
    "def predict_from_naive_bayes_model(model, matrix):\n",
    "    \"\"\"Use a Naive Bayes model to compute predictions for a target matrix.\n",
    "\n",
    "    This function should be able to predict on the models that fit_naive_bayes_model\n",
    "    outputs.\n",
    "\n",
    "    Args:\n",
    "        model: A trained model from fit_naive_bayes_model\n",
    "        matrix: A numpy array containing word counts\n",
    "\n",
    "    Returns: The trained model\n",
    "    \"\"\"\n",
    "    # *** START CODE HERE ***\n",
    "    # matrix (M, V)\n",
    "    m,v = matrix.shape\n",
    "    # (2, V), scalar\n",
    "    phi_y, phi_j_y0, phi_j_y1 = model\n",
    "    phi_k = np.zeros((2, v))\n",
    "    phi_k[0] = phi_j_y0\n",
    "    phi_k[1] = phi_j_y1\n",
    "    # log likelihood (M, 2)\n",
    "    log_likelihood = np.sum(matrix[:,None] * np.log(phi_k), axis=-1)\n",
    "    log_likelihood[:, 0] += np.log(1 - phi_y)\n",
    "    log_likelihood[:, 1] += np.log(phi_y)\n",
    "    \n",
    "    return np.argmax(log_likelihood, axis=1)\n",
    "    # *** END CODE HERE ***"
   ]
  },
  {
   "cell_type": "code",
   "execution_count": 9,
   "metadata": {},
   "outputs": [],
   "source": [
    "def get_top_five_naive_bayes_words(model, dictionary):\n",
    "    \"\"\"Compute the top five words that are most indicative of the spam (i.e positive) class.\n",
    "\n",
    "    Ues the metric given in 6c as a measure of how indicative a word is.\n",
    "    Return the words in sorted form, with the most indicative word first.\n",
    "\n",
    "    Args:\n",
    "        model: The Naive Bayes model returned from fit_naive_bayes_model\n",
    "        dictionary: A mapping of word to integer ids\n",
    "\n",
    "    Returns: The top five most indicative words in sorted order with the most indicative first\n",
    "    \"\"\"\n",
    "    # *** START CODE HERE ***\n",
    "    # *** END CODE HERE ***"
   ]
  },
  {
   "cell_type": "code",
   "execution_count": 10,
   "metadata": {},
   "outputs": [],
   "source": [
    "def compute_best_svm_radius(train_matrix, train_labels, val_matrix, val_labels, radius_to_consider):\n",
    "    \"\"\"Compute the optimal SVM radius using the provided training and evaluation datasets.\n",
    "\n",
    "    You should only consider radius values within the radius_to_consider list.\n",
    "    You should use accuracy as a metric for comparing the different radius values.\n",
    "\n",
    "    Args:\n",
    "        train_matrix: The word counts for the training data\n",
    "        train_labels: The spma or not spam labels for the training data\n",
    "        val_matrix: The word counts for the validation data\n",
    "        val_labels: The spam or not spam labels for the validation data\n",
    "        radius_to_consider: The radius values to consider\n",
    "    \n",
    "    Returns:\n",
    "        The best radius which maximizes SVM accuracy.\n",
    "    \"\"\"\n",
    "    # *** START CODE HERE ***\n",
    "    # *** END CODE HERE ***"
   ]
  },
  {
   "cell_type": "code",
   "execution_count": 11,
   "metadata": {},
   "outputs": [],
   "source": [
    "# begin_time = datetime.datetime.now()\n",
    "train_messages, train_labels = util.load_spam_dataset('../data/ds6_train.tsv')\n",
    "val_messages, val_labels = util.load_spam_dataset('../data/ds6_val.tsv')\n",
    "test_messages, test_labels = util.load_spam_dataset('../data/ds6_test.tsv')"
   ]
  },
  {
   "cell_type": "code",
   "execution_count": 12,
   "metadata": {},
   "outputs": [],
   "source": [
    "dictionary = create_dictionary(train_messages)\n",
    "\n",
    "util.write_json('./output/p06_dictionary', dictionary)"
   ]
  },
  {
   "cell_type": "code",
   "execution_count": 13,
   "metadata": {},
   "outputs": [],
   "source": [
    "train_matrix = transform_text(train_messages, dictionary)\n",
    "\n",
    "np.savetxt('./output/p06_sample_train_matrix', train_matrix[:100,:])"
   ]
  },
  {
   "cell_type": "code",
   "execution_count": 14,
   "metadata": {},
   "outputs": [],
   "source": [
    "val_matrix = transform_text(val_messages, dictionary)\n",
    "test_matrix = transform_text(test_messages, dictionary)"
   ]
  },
  {
   "cell_type": "code",
   "execution_count": 29,
   "metadata": {},
   "outputs": [
    {
     "name": "stdout",
     "output_type": "stream",
     "text": [
      "[0.00057968 0.00059231 0.00057968 ... 0.00057968 0.00057968 0.00057968]\n"
     ]
    }
   ],
   "source": [
    "naive_bayes_model = fit_naive_bayes_model(train_matrix, train_labels)\n",
    "\n",
    "naive_bayes_predictions = predict_from_naive_bayes_model(naive_bayes_model, test_matrix)"
   ]
  },
  {
   "cell_type": "code",
   "execution_count": 16,
   "metadata": {},
   "outputs": [],
   "source": [
    "matrix = train_matrix\n",
    "labels = train_labels\n",
    "row, col = matrix.shape\n",
    "# print(row, col)\n",
    "\n",
    "y_i1 = labels[labels == 1].sum()\n",
    "# print(y_i1)\n",
    "\n",
    "phi_y = (y_i1+ row)/(3*row)\n",
    "# print(phi_y)"
   ]
  },
  {
   "cell_type": "code",
   "execution_count": 45,
   "metadata": {
    "scrolled": false
   },
   "outputs": [
    {
     "name": "stdout",
     "output_type": "stream",
     "text": [
      "(611, 1722)\n",
      "6170673\n",
      "[0.00057968 0.00059231 0.00057968 ... 0.00057968 0.00057968 0.00057968]\n",
      "(4457, 1, 1722)\n",
      "(4457, 1722)\n",
      "[[-7.45247936 -7.44203956 -7.44813095 ... -7.45310211 -7.45310211\n",
      "  -7.45301313]\n",
      " [-7.45303823 -7.43147256 -7.45303823 ... -7.45303823 -7.45303823\n",
      "  -7.45303823]]\n",
      "(2, 1722)\n"
     ]
    }
   ],
   "source": [
    "spam_matrix = matrix[labels==1]\n",
    "print(spam_matrix.shape)\n",
    "new_spam_matrix = spam_matrix.sum(axis=1).sum()\n",
    "print(new_spam_matrix)\n",
    "phi_j_y1 = (spam_matrix.sum(axis=0)+1)/(new_spam_matrix+col)\n",
    "print(phi_j_y1)\n",
    "n,v = matrix.shape\n",
    "non_spam_matrix = matrix[labels==0]\n",
    "new_spam_matrix = non_spam_matrix.sum(axis=1).sum()\n",
    "phi_j_y0 = (non_spam_matrix.sum(axis=0)+1)/(new_spam_matrix+col)\n",
    "phi_k = np.zeros((2, v))\n",
    "phi_k[0] = phi_j_y0\n",
    "phi_k[1] = phi_j_y1\n",
    "log_likelihood = np.sum(matrix[:,None] * np.log(phi_k), axis=-1)\n",
    "print(matrix[:,None].shape)\n",
    "# print(matrix[:, None])\n",
    "print(matrix.shape)\n",
    "# print(matrix)\n",
    "print(np.log(phi_k))\n",
    "print(phi_k.shape)\n",
    "\n",
    "log_likelihood[:, 0] += np.log(1 - phi_y)\n",
    "log_likelihood[:, 1] += np.log(phi_y)\n",
    "# print(np.argmax(log_likelihood, axis=1))"
   ]
  },
  {
   "cell_type": "code",
   "execution_count": 31,
   "metadata": {},
   "outputs": [
    {
     "name": "stdout",
     "output_type": "stream",
     "text": [
      "(2, 1722)\n"
     ]
    }
   ],
   "source": [
    "matrix = train_matrix\n",
    "labels = train_labels\n",
    "labels = labels.astype(np.bool)\n",
    "M, V = matrix.shape\n",
    "# frequency list, (2, |V|)\n",
    "phi_k = np.zeros((2, V))\n",
    "# retrieve all ham messages\n",
    "phi_k[0] = matrix[~labels].sum(axis=0)\n",
    "phi_k[1] = matrix[labels].sum(axis=0)\n",
    "\n",
    "\n",
    "# add one laplace smoothing\n",
    "phi_k += 1\n",
    "\n",
    "# normalize\n",
    "phi_k = phi_k / phi_k.sum(axis=1, keepdims=True)\n",
    "\n",
    "phi_y = labels.sum() / labels.shape[0]\n",
    "print(phi_k.shape)"
   ]
  },
  {
   "cell_type": "code",
   "execution_count": 18,
   "metadata": {},
   "outputs": [],
   "source": [
    "t_list = []\n",
    "for i in range(col):\n",
    "    t_matrix = spam_matrix[:, i]\n",
    "    # diff = len(t_matrix)-len(t_matrix[t_matrix==0])\n",
    "    diff = t_matrix.sum()\n",
    "#     print(diff)\n",
    "    t_list.append(diff)\n",
    "spam_matrix = np.array(t_list)\n",
    "phi_j_y1 = (spam_matrix+row)/(y_i1 + 2*row)\n",
    "# print(phi_j_y1)\n",
    "\n",
    "non_spam_matrix = matrix[labels==0]\n",
    "t_list = []\n",
    "for i in range(col):\n",
    "    t_matrix = non_spam_matrix[:, i]\n",
    "    # diff = len(t_matrix)-len(t_matrix[t_matrix==0])\n",
    "    diff = t_matrix.sum()\n",
    "    t_list.append(diff)\n",
    "non_spam_matrix = np.array(t_list)\n",
    "phi_j_y0 = (non_spam_matrix+row)/(row-y_i1 + 2*row)"
   ]
  },
  {
   "cell_type": "code",
   "execution_count": 19,
   "metadata": {},
   "outputs": [],
   "source": [
    "np.savetxt('./output/p06_naive_bayes_predictions', naive_bayes_predictions)\n",
    "np.savetxt('./output/p06_test_labels', test_labels)"
   ]
  },
  {
   "cell_type": "code",
   "execution_count": 30,
   "metadata": {},
   "outputs": [
    {
     "name": "stdout",
     "output_type": "stream",
     "text": [
      "Naive Bayes had an accuracy of 0.8799283154121864 on the testing set\n"
     ]
    }
   ],
   "source": [
    "naive_bayes_accuracy = np.mean(naive_bayes_predictions == test_labels)\n",
    "\n",
    "print('Naive Bayes had an accuracy of {} on the testing set'.format(naive_bayes_accuracy))"
   ]
  },
  {
   "cell_type": "code",
   "execution_count": 21,
   "metadata": {},
   "outputs": [
    {
     "name": "stdout",
     "output_type": "stream",
     "text": [
      "The top 5 indicative words for Naive Bayes are:  None\n"
     ]
    }
   ],
   "source": [
    "top_5_words = get_top_five_naive_bayes_words(naive_bayes_model, dictionary)\n",
    "\n",
    "print('The top 5 indicative words for Naive Bayes are: ', top_5_words)\n",
    "\n",
    "util.write_json('./output/p06_top_indicative_words', top_5_words)"
   ]
  },
  {
   "cell_type": "code",
   "execution_count": 22,
   "metadata": {},
   "outputs": [
    {
     "name": "stdout",
     "output_type": "stream",
     "text": [
      "The optimal SVM radius was None\n"
     ]
    }
   ],
   "source": [
    "optimal_radius = compute_best_svm_radius(train_matrix, train_labels, val_matrix, val_labels, [0.01, 0.1, 1, 10])\n",
    "\n",
    "util.write_json('./output/p06_optimal_radius', optimal_radius)\n",
    "\n",
    "print('The optimal SVM radius was {}'.format(optimal_radius))"
   ]
  },
  {
   "cell_type": "code",
   "execution_count": 23,
   "metadata": {},
   "outputs": [
    {
     "ename": "TypeError",
     "evalue": "unsupported operand type(s) for ** or pow(): 'NoneType' and 'int'",
     "output_type": "error",
     "traceback": [
      "\u001b[0;31m---------------------------------------------------------------------------\u001b[0m",
      "\u001b[0;31mTypeError\u001b[0m                                 Traceback (most recent call last)",
      "\u001b[0;32m<ipython-input-23-01d395ef4c80>\u001b[0m in \u001b[0;36m<module>\u001b[0;34m\u001b[0m\n\u001b[0;32m----> 1\u001b[0;31m \u001b[0msvm_predictions\u001b[0m \u001b[0;34m=\u001b[0m \u001b[0msvm\u001b[0m\u001b[0;34m.\u001b[0m\u001b[0mtrain_and_predict_svm\u001b[0m\u001b[0;34m(\u001b[0m\u001b[0mtrain_matrix\u001b[0m\u001b[0;34m,\u001b[0m \u001b[0mtrain_labels\u001b[0m\u001b[0;34m,\u001b[0m \u001b[0mtest_matrix\u001b[0m\u001b[0;34m,\u001b[0m \u001b[0moptimal_radius\u001b[0m\u001b[0;34m)\u001b[0m\u001b[0;34m\u001b[0m\u001b[0;34m\u001b[0m\u001b[0m\n\u001b[0m\u001b[1;32m      2\u001b[0m \u001b[0;34m\u001b[0m\u001b[0m\n\u001b[1;32m      3\u001b[0m \u001b[0msvm_accuracy\u001b[0m \u001b[0;34m=\u001b[0m \u001b[0mnp\u001b[0m\u001b[0;34m.\u001b[0m\u001b[0mmean\u001b[0m\u001b[0;34m(\u001b[0m\u001b[0msvm_predictions\u001b[0m \u001b[0;34m==\u001b[0m \u001b[0mtest_labels\u001b[0m\u001b[0;34m)\u001b[0m\u001b[0;34m\u001b[0m\u001b[0;34m\u001b[0m\u001b[0m\n\u001b[1;32m      4\u001b[0m \u001b[0;34m\u001b[0m\u001b[0m\n\u001b[1;32m      5\u001b[0m \u001b[0mprint\u001b[0m\u001b[0;34m(\u001b[0m\u001b[0;34m'The SVM model had an accuracy of {} on the testing set'\u001b[0m\u001b[0;34m.\u001b[0m\u001b[0mformat\u001b[0m\u001b[0;34m(\u001b[0m\u001b[0msvm_accuracy\u001b[0m\u001b[0;34m,\u001b[0m \u001b[0moptimal_radius\u001b[0m\u001b[0;34m)\u001b[0m\u001b[0;34m)\u001b[0m\u001b[0;34m\u001b[0m\u001b[0;34m\u001b[0m\u001b[0m\n",
      "\u001b[0;32m~/Desktop/ml/ps2/src/svm.py\u001b[0m in \u001b[0;36mtrain_and_predict_svm\u001b[0;34m(train_matrix, train_labels, test_matrix, radius)\u001b[0m\n\u001b[1;32m     17\u001b[0m         \u001b[0mThe\u001b[0m \u001b[0mpredicted\u001b[0m \u001b[0mlabels\u001b[0m \u001b[0;32mfor\u001b[0m \u001b[0meach\u001b[0m \u001b[0mmessage\u001b[0m\u001b[0;34m\u001b[0m\u001b[0;34m\u001b[0m\u001b[0m\n\u001b[1;32m     18\u001b[0m     \"\"\"\n\u001b[0;32m---> 19\u001b[0;31m     \u001b[0mmodel\u001b[0m \u001b[0;34m=\u001b[0m \u001b[0msvm_train\u001b[0m\u001b[0;34m(\u001b[0m\u001b[0mtrain_matrix\u001b[0m\u001b[0;34m,\u001b[0m \u001b[0mtrain_labels\u001b[0m\u001b[0;34m,\u001b[0m \u001b[0mradius\u001b[0m\u001b[0;34m)\u001b[0m\u001b[0;34m\u001b[0m\u001b[0;34m\u001b[0m\u001b[0m\n\u001b[0m\u001b[1;32m     20\u001b[0m     \u001b[0;32mreturn\u001b[0m \u001b[0msvm_predict\u001b[0m\u001b[0;34m(\u001b[0m\u001b[0mmodel\u001b[0m\u001b[0;34m,\u001b[0m \u001b[0mtest_matrix\u001b[0m\u001b[0;34m,\u001b[0m \u001b[0mradius\u001b[0m\u001b[0;34m)\u001b[0m\u001b[0;34m\u001b[0m\u001b[0;34m\u001b[0m\u001b[0m\n\u001b[1;32m     21\u001b[0m \u001b[0;34m\u001b[0m\u001b[0m\n",
      "\u001b[0;32m~/Desktop/ml/ps2/src/svm.py\u001b[0m in \u001b[0;36msvm_train\u001b[0;34m(matrix, category, radius)\u001b[0m\n\u001b[1;32m     28\u001b[0m     \u001b[0msquared\u001b[0m \u001b[0;34m=\u001b[0m \u001b[0mnp\u001b[0m\u001b[0;34m.\u001b[0m\u001b[0msum\u001b[0m\u001b[0;34m(\u001b[0m\u001b[0mmatrix\u001b[0m \u001b[0;34m*\u001b[0m \u001b[0mmatrix\u001b[0m\u001b[0;34m,\u001b[0m \u001b[0maxis\u001b[0m\u001b[0;34m=\u001b[0m\u001b[0;36m1\u001b[0m\u001b[0;34m)\u001b[0m\u001b[0;34m\u001b[0m\u001b[0;34m\u001b[0m\u001b[0m\n\u001b[1;32m     29\u001b[0m     \u001b[0mgram\u001b[0m \u001b[0;34m=\u001b[0m \u001b[0mmatrix\u001b[0m\u001b[0;34m.\u001b[0m\u001b[0mdot\u001b[0m\u001b[0;34m(\u001b[0m\u001b[0mmatrix\u001b[0m\u001b[0;34m.\u001b[0m\u001b[0mT\u001b[0m\u001b[0;34m)\u001b[0m\u001b[0;34m\u001b[0m\u001b[0;34m\u001b[0m\u001b[0m\n\u001b[0;32m---> 30\u001b[0;31m     \u001b[0mK\u001b[0m \u001b[0;34m=\u001b[0m \u001b[0mnp\u001b[0m\u001b[0;34m.\u001b[0m\u001b[0mexp\u001b[0m\u001b[0;34m(\u001b[0m\u001b[0;34m-\u001b[0m\u001b[0;34m(\u001b[0m\u001b[0msquared\u001b[0m\u001b[0;34m.\u001b[0m\u001b[0mreshape\u001b[0m\u001b[0;34m(\u001b[0m\u001b[0;34m(\u001b[0m\u001b[0;36m1\u001b[0m\u001b[0;34m,\u001b[0m \u001b[0;34m-\u001b[0m\u001b[0;36m1\u001b[0m\u001b[0;34m)\u001b[0m\u001b[0;34m)\u001b[0m \u001b[0;34m+\u001b[0m \u001b[0msquared\u001b[0m\u001b[0;34m.\u001b[0m\u001b[0mreshape\u001b[0m\u001b[0;34m(\u001b[0m\u001b[0;34m(\u001b[0m\u001b[0;34m-\u001b[0m\u001b[0;36m1\u001b[0m\u001b[0;34m,\u001b[0m \u001b[0;36m1\u001b[0m\u001b[0;34m)\u001b[0m\u001b[0;34m)\u001b[0m \u001b[0;34m-\u001b[0m \u001b[0;36m2\u001b[0m \u001b[0;34m*\u001b[0m \u001b[0mgram\u001b[0m\u001b[0;34m)\u001b[0m \u001b[0;34m/\u001b[0m \u001b[0;34m(\u001b[0m\u001b[0;36m2\u001b[0m \u001b[0;34m*\u001b[0m \u001b[0;34m(\u001b[0m\u001b[0mradius\u001b[0m \u001b[0;34m**\u001b[0m \u001b[0;36m2\u001b[0m\u001b[0;34m)\u001b[0m\u001b[0;34m)\u001b[0m\u001b[0;34m)\u001b[0m\u001b[0;34m\u001b[0m\u001b[0;34m\u001b[0m\u001b[0m\n\u001b[0m\u001b[1;32m     31\u001b[0m \u001b[0;34m\u001b[0m\u001b[0m\n\u001b[1;32m     32\u001b[0m     \u001b[0malpha\u001b[0m \u001b[0;34m=\u001b[0m \u001b[0mnp\u001b[0m\u001b[0;34m.\u001b[0m\u001b[0mzeros\u001b[0m\u001b[0;34m(\u001b[0m\u001b[0mM\u001b[0m\u001b[0;34m)\u001b[0m\u001b[0;34m\u001b[0m\u001b[0;34m\u001b[0m\u001b[0m\n",
      "\u001b[0;31mTypeError\u001b[0m: unsupported operand type(s) for ** or pow(): 'NoneType' and 'int'"
     ]
    }
   ],
   "source": [
    "svm_predictions = svm.train_and_predict_svm(train_matrix, train_labels, test_matrix, optimal_radius)\n",
    "\n",
    "svm_accuracy = np.mean(svm_predictions == test_labels)\n",
    "\n",
    "print('The SVM model had an accuracy of {} on the testing set'.format(svm_accuracy, optimal_radius))"
   ]
  },
  {
   "cell_type": "code",
   "execution_count": null,
   "metadata": {},
   "outputs": [],
   "source": [
    "if __name__ == \"__main__\":\n",
    "    main()"
   ]
  },
  {
   "cell_type": "code",
   "execution_count": 39,
   "metadata": {},
   "outputs": [
    {
     "name": "stdout",
     "output_type": "stream",
     "text": [
      "[1 2 3 4 5]\n",
      "[[1]\n",
      " [2]\n",
      " [3]\n",
      " [4]\n",
      " [5]]\n"
     ]
    }
   ],
   "source": [
    "x = np.array([1,2,3,4,5])\n",
    "print(x)\n",
    "print(x[:, None])"
   ]
  }
 ],
 "metadata": {
  "kernelspec": {
   "display_name": "Python 3",
   "language": "python",
   "name": "python3"
  },
  "language_info": {
   "codemirror_mode": {
    "name": "ipython",
    "version": 3
   },
   "file_extension": ".py",
   "mimetype": "text/x-python",
   "name": "python",
   "nbconvert_exporter": "python",
   "pygments_lexer": "ipython3",
   "version": "3.6.10"
  }
 },
 "nbformat": 4,
 "nbformat_minor": 4
}
